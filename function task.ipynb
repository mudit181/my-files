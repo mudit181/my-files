{
 "cells": [
  {
   "cell_type": "markdown",
   "id": "1b2f69cf",
   "metadata": {},
   "source": [
    "1. write a function which will try to find out len of a string without using an inbuilt len function "
   ]
  },
  {
   "cell_type": "code",
   "execution_count": 1,
   "id": "067e7e02",
   "metadata": {},
   "outputs": [
    {
     "data": {
      "text/plain": [
       "10"
      ]
     },
     "execution_count": 1,
     "metadata": {},
     "output_type": "execute_result"
    }
   ],
   "source": [
    "def srt_length(a):\n",
    "    n=0\n",
    "    if type(a)== str:\n",
    "        for i in a:\n",
    "            n= n+1\n",
    "        return n\n",
    "    else:\n",
    "        return \"not a str\"\n",
    "\n",
    "    \n",
    "my_name = \"muditbhatt\"\n",
    "srt_length(my_name)"
   ]
  },
  {
   "cell_type": "markdown",
   "id": "95889838",
   "metadata": {},
   "source": [
    "2. write a function which  will be able to print an index of list element without using an index function"
   ]
  },
  {
   "cell_type": "code",
   "execution_count": 36,
   "id": "3f2e671f",
   "metadata": {},
   "outputs": [
    {
     "name": "stdout",
     "output_type": "stream",
     "text": [
      "0 1\n",
      "1 2\n",
      "2 3\n",
      "3 4\n",
      "4 55\n",
      "5 44\n",
      "6 mudit\n",
      "7 iNeuron\n"
     ]
    }
   ],
   "source": [
    "def all_index(a):\n",
    "    for i in range(len(a)):\n",
    "        print(i, a[i])\n",
    "        \n",
    "        \n",
    "l1=[1,2,3,4,55,44,'mudit','iNeuron']\n",
    "all_index(l1)"
   ]
  },
  {
   "cell_type": "markdown",
   "id": "743a7cae",
   "metadata": {},
   "source": [
    "3. write a function which will be able to print an ip address of your system"
   ]
  },
  {
   "cell_type": "code",
   "execution_count": 2,
   "id": "d2ca24e2",
   "metadata": {},
   "outputs": [
    {
     "name": "stdout",
     "output_type": "stream",
     "text": [
      "Computer name:DESKTOP-97K4J8U\n",
      "IP Address :192.168.29.74\n"
     ]
    }
   ],
   "source": [
    "import socket\n",
    "def my_ip():\n",
    "    name = socket.gethostname()\n",
    "    IPAddr = socket.gethostbyname(name)\n",
    "\n",
    "    print(\"Computer name:\" + name)\n",
    "    print(\"IP Address :\" + IPAddr)\n",
    "\n",
    "\n",
    "my_ip()\n"
   ]
  },
  {
   "cell_type": "markdown",
   "id": "4c62332a",
   "metadata": {},
   "source": [
    "4. write a function which will shutdown your system"
   ]
  },
  {
   "cell_type": "code",
   "execution_count": 5,
   "id": "36a4094b",
   "metadata": {},
   "outputs": [],
   "source": [
    "import os\n",
    "def shutdown():\n",
    "    return os.system(\"shutdown /s /t 1\")"
   ]
  },
  {
   "cell_type": "markdown",
   "id": "1844bdf3",
   "metadata": {},
   "source": [
    "5. write a function which will take input as a list with any kind of numeric value and give an out as a multiplication of \n",
    "all the numeric data l = [3.5, 6.56, 4,5,\"sudh\" , \"ineuron\" , 'fsda bootcamp 2.0']"
   ]
  },
  {
   "cell_type": "code",
   "execution_count": 29,
   "id": "060ca858",
   "metadata": {},
   "outputs": [],
   "source": [
    " l = [3.5, 6.56, 4,5,\"sudh\" , \"ineuron\" , 'fsda bootcamp 2.0']\n",
    "def test(a):\n",
    "    x = 1\n",
    "    for i in a:\n",
    "        if type(i)== int or type(i)==float:\n",
    "            x = i*x\n",
    "    return x\n",
    "    "
   ]
  },
  {
   "cell_type": "code",
   "execution_count": 30,
   "id": "99114e49",
   "metadata": {},
   "outputs": [
    {
     "data": {
      "text/plain": [
       "459.19999999999993"
      ]
     },
     "execution_count": 30,
     "metadata": {},
     "output_type": "execute_result"
    }
   ],
   "source": [
    "test(l)"
   ]
  },
  {
   "cell_type": "markdown",
   "id": "32cb9b46",
   "metadata": {},
   "source": [
    "7 . write a function which will be able to send a mail to anyone "
   ]
  },
  {
   "cell_type": "code",
   "execution_count": 7,
   "id": "2b197f9b",
   "metadata": {},
   "outputs": [
    {
     "name": "stdout",
     "output_type": "stream",
     "text": [
      "Mail sent\n"
     ]
    }
   ],
   "source": [
    "import smtplib\n",
    "\n",
    "def send_mail():\n",
    "    server = smtplib.SMTP('smtp.gmail.com', 587)\n",
    "    server.starttls()\n",
    "    server.login('muditbhattiNeuron@gmail.com','rxqsgisuphwvawkr')\n",
    "    server.sendmail('muditbhattiNeuron@gmail.com','mudit181bhatt@gmail.com', 'lets send a mail from python and see if it works')\n",
    "    print(\"Mail sent\")\n",
    "\n",
    "\n",
    "send_mail()   "
   ]
  },
  {
   "cell_type": "markdown",
   "id": "e356d26f",
   "metadata": {},
   "source": [
    "8. write a function which will be able to read a doc/word file from your system "
   ]
  },
  {
   "cell_type": "code",
   "execution_count": 12,
   "id": "252c360f",
   "metadata": {},
   "outputs": [
    {
     "name": "stdout",
     "output_type": "stream",
     "text": [
      "enter your word file name: Info\n",
      "Name : Mudit Bhatt\n",
      "\n",
      "Language: python\n",
      "\n",
      "Course : FSDS 2.0\n"
     ]
    }
   ],
   "source": [
    "import docx2txt\n",
    "def read_file(filename):\n",
    "    '''this function is to read doc/word files '''\n",
    "    f= docx2txt.process(filename+'.docx')   # any word file concatinate with .docx\n",
    "    print(f)\n",
    "    \n",
    "    \n",
    "filename = input(\"enter your word file name: \") # user must enter word file name without .docx \n",
    "#Info is word file in system directory\n",
    "read_file(filename)"
   ]
  },
  {
   "cell_type": "code",
   "execution_count": null,
   "id": "5a25e425",
   "metadata": {},
   "outputs": [],
   "source": []
  }
 ],
 "metadata": {
  "kernelspec": {
   "display_name": "Python 3 (ipykernel)",
   "language": "python",
   "name": "python3"
  },
  "language_info": {
   "codemirror_mode": {
    "name": "ipython",
    "version": 3
   },
   "file_extension": ".py",
   "mimetype": "text/x-python",
   "name": "python",
   "nbconvert_exporter": "python",
   "pygments_lexer": "ipython3",
   "version": "3.9.12"
  }
 },
 "nbformat": 4,
 "nbformat_minor": 5
}
