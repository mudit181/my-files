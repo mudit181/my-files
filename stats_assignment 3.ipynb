{
 "cells": [
  {
   "cell_type": "markdown",
   "id": "f21f5953",
   "metadata": {},
   "source": [
    "1. Scenario: A company wants to analyze the sales performance of its products in different regions. They have collected the following data:\n",
    "\n",
    "   Region A: [10, 15, 12, 8, 14]\n",
    "   \n",
    "   Region B: [18, 20, 16, 22, 25]\n",
    "   Calculate the mean sales for each region.\n"
   ]
  },
  {
   "cell_type": "code",
   "execution_count": 3,
   "id": "c0c035e9",
   "metadata": {},
   "outputs": [
    {
     "name": "stdout",
     "output_type": "stream",
     "text": [
      "mean for region A :  11.8\n",
      "mean for region b :  20.2\n"
     ]
    }
   ],
   "source": [
    "import statistics as stat\n",
    "# sol 1\n",
    "Region_A = [10, 15, 12, 8, 14]\n",
    "Region_B = [18, 20, 16, 22, 25]\n",
    "\n",
    "print(\"mean for region A : \", stat.mean(Region_A))\n",
    "print(\"mean for region b : \", stat.mean(Region_B))\n",
    "\n",
    "    "
   ]
  },
  {
   "cell_type": "code",
   "execution_count": 5,
   "id": "fadaaf59",
   "metadata": {},
   "outputs": [
    {
     "name": "stdout",
     "output_type": "stream",
     "text": [
      "mean for region A :  11.8\n",
      "mean for region  :  20.2\n"
     ]
    }
   ],
   "source": [
    "# solutin 2:\n",
    "Region_A = [10, 15, 12, 8, 14]\n",
    "Region_B = [18, 20, 16, 22, 25]\n",
    "print(\"mean for region A : \", sum(Region_A)/5)\n",
    "print(\"mean for region  : \", sum(Region_B)/5)"
   ]
  },
  {
   "cell_type": "markdown",
   "id": "ade879e7",
   "metadata": {},
   "source": [
    "2. Scenario: A survey is conducted to measure customer satisfaction on a scale of 1 to 5. The data collected is as follows:\n",
    "\n",
    "   [4, 5, 2, 3, 5, 4, 3, 2, 4, 5]\n",
    "   Calculate the mode of the survey responses.\n"
   ]
  },
  {
   "cell_type": "code",
   "execution_count": 8,
   "id": "11669272",
   "metadata": {},
   "outputs": [
    {
     "data": {
      "text/plain": [
       "4"
      ]
     },
     "execution_count": 8,
     "metadata": {},
     "output_type": "execute_result"
    }
   ],
   "source": [
    "# sol 1:\n",
    "import statistics as stat\n",
    "data = [4, 5, 2, 3, 5, 4, 3, 2, 4, 5] \n",
    "stat.mode(data)"
   ]
  },
  {
   "cell_type": "markdown",
   "id": "1e1a7a30",
   "metadata": {},
   "source": [
    "3. Scenario: A company wants to compare the salaries of two departments. The salary data for Department A and Department B are as follows:\n",
    "\n",
    "   Department A: [5000, 6000, 5500, 7000]\n",
    "   \n",
    "   Department B: [4500, 5500, 5800, 6000, 5200]\n",
    "   \n",
    "   Calculate the median salary for each department.\n"
   ]
  },
  {
   "cell_type": "code",
   "execution_count": 12,
   "id": "0a731065",
   "metadata": {},
   "outputs": [
    {
     "name": "stdout",
     "output_type": "stream",
     "text": [
      "median of department A :  5750.0\n",
      "median of department B :  5500\n"
     ]
    }
   ],
   "source": [
    "import statistics as stats\n",
    "Department_A=[5000, 6000, 5500, 7000]\n",
    "Department_B = [4500, 5500, 5800, 6000, 5200]\n",
    "print(\"median of department A : \", stats.median(Department_A))\n",
    "print(\"median of department B : \", stats.median(Department_B))"
   ]
  },
  {
   "cell_type": "markdown",
   "id": "7cfdbe2e",
   "metadata": {},
   "source": [
    "4. Scenario: A data analyst wants to determine the variability in the daily stock prices of a company. The data collected is as follows:\n",
    "\n",
    "   [25.5, 24.8, 26.1, 25.3, 24.9]\n",
    "   \n",
    "   Calculate the range of the stock prices.\n"
   ]
  },
  {
   "cell_type": "code",
   "execution_count": 17,
   "id": "82092261",
   "metadata": {},
   "outputs": [
    {
     "name": "stdout",
     "output_type": "stream",
     "text": [
      "The range of stock prices is :  1.3000000000000007\n"
     ]
    }
   ],
   "source": [
    "data = [25.5, 24.8, 26.1, 25.3, 24.9]\n",
    "\n",
    "range = (max(data) - min(data))\n",
    "\n",
    "print(\"The range of stock prices is : \", range)"
   ]
  },
  {
   "cell_type": "markdown",
   "id": "e3b1ff01",
   "metadata": {},
   "source": [
    "5. Scenario: A study is conducted to compare the performance of two different teaching methods. The test scores of the students in each group are as follows:\n",
    "\n",
    "   Group A: [85, 90, 92, 88, 91]\n",
    "   \n",
    "   Group B: [82, 88, 90, 86, 87]\n",
    "   Perform a t-test to determine if there is a significant difference in the mean scores between the two groups.\n"
   ]
  },
  {
   "cell_type": "code",
   "execution_count": 26,
   "id": "d461d095",
   "metadata": {},
   "outputs": [
    {
     "name": "stdout",
     "output_type": "stream",
     "text": [
      "T-Test :  1.4312528946642733\n",
      "P-value :  0.19023970239078333\n",
      "Accepting Null Hypothesis\n",
      "There is no significant difference in the mean scores between Group A and Group B.\n"
     ]
    }
   ],
   "source": [
    "from scipy import stats\n",
    "\n",
    "Group_A = [85, 90, 92, 88, 91]\n",
    "Group_B = [82, 88, 90, 86, 87]\n",
    "\n",
    "ttest, p_value = stats.ttest_ind(Group_A, Group_B)\n",
    "\n",
    "print('T-Test : ',ttest)\n",
    "print(\"P-value : \", p_value)\n",
    "\n",
    "if p_value < 0.05:   \n",
    "    print(\"Rejecting Null Hypothesis\")\n",
    "    print(\"There is a significant difference in the mean scores between Group A and Group B.\")\n",
    "else:\n",
    "    print(\"Accepting Null Hypothesis\")\n",
    "    print(\"There is no significant difference in the mean scores between Group A and Group B.\")"
   ]
  },
  {
   "cell_type": "markdown",
   "id": "9f3b5573",
   "metadata": {},
   "source": [
    "---------------------"
   ]
  },
  {
   "cell_type": "markdown",
   "id": "af284384",
   "metadata": {},
   "source": [
    "6. Scenario: A company wants to analyze the relationship between advertising expenditure and sales. The data collected is as follows:\n",
    "   Advertising Expenditure (in thousands): [10, 15, 12, 8, 14]\n",
    "   \n",
    "   Sales (in thousands): [25, 30, 28, 20, 26]\n",
    "   \n",
    "   Calculate the correlation coefficient between advertising expenditure and sales.\n"
   ]
  },
  {
   "cell_type": "code",
   "execution_count": 38,
   "id": "eb904ca1",
   "metadata": {},
   "outputs": [
    {
     "name": "stdout",
     "output_type": "stream",
     "text": [
      "Correlation coefficient: 0.8757511375750132\n"
     ]
    }
   ],
   "source": [
    "# sol 1:\n",
    "import numpy as np\n",
    "\n",
    "advertising_expenditure = [10, 15, 12, 8, 14]\n",
    "sales = [25, 30, 28, 20, 26]\n",
    "\n",
    "correlation_coefficient = np.corrcoef(advertising_expenditure, sales)[0, 1]\n",
    "\n",
    "# Print the correlation coefficient\n",
    "print(\"Correlation coefficient:\", correlation_coefficient)"
   ]
  },
  {
   "cell_type": "code",
   "execution_count": 39,
   "id": "7eab90f1",
   "metadata": {},
   "outputs": [
    {
     "name": "stdout",
     "output_type": "stream",
     "text": [
      "Correlation coefficient: 0.8757511375750133\n"
     ]
    }
   ],
   "source": [
    "#sollution 2:\n",
    "from scipy import stats\n",
    "\n",
    "advertising_expenditure = [10, 15, 12, 8, 14]\n",
    "sales = [25, 30, 28, 20, 26]\n",
    "\n",
    "correlation_coefficient, p_value = stats.pearsonr(advertising_expenditure, sales)\n",
    "\n",
    "print(\"Correlation coefficient:\", correlation_coefficient)\n"
   ]
  },
  {
   "cell_type": "markdown",
   "id": "43c169f2",
   "metadata": {},
   "source": [
    "-----------------"
   ]
  },
  {
   "cell_type": "markdown",
   "id": "eec03f70",
   "metadata": {},
   "source": [
    "7. Scenario: A survey is conducted to measure the heights of a group of people. The data collected is as follows:\n",
    "\n",
    "   [160, 170, 165, 155, 175, 180, 170]\n",
    "   \n",
    "   Calculate the standard deviation of the heights.\n"
   ]
  },
  {
   "cell_type": "code",
   "execution_count": 40,
   "id": "51a50463",
   "metadata": {},
   "outputs": [
    {
     "name": "stdout",
     "output_type": "stream",
     "text": [
      "Standard deviation of heights: 7.953949089757174\n"
     ]
    }
   ],
   "source": [
    "import numpy as np\n",
    "\n",
    "data= [160, 170, 165, 155, 175, 180, 170]\n",
    "\n",
    "# Calculate the standard deviation\n",
    "standard_deviation = np.std(data)\n",
    "\n",
    "\n",
    "print(\"Standard deviation of heights:\", standard_deviation)\n"
   ]
  },
  {
   "cell_type": "markdown",
   "id": "aace6168",
   "metadata": {},
   "source": [
    "--------------------"
   ]
  },
  {
   "cell_type": "markdown",
   "id": "b455e2b7",
   "metadata": {},
   "source": [
    "8. Scenario: A company wants to analyze the relationship between employee tenure and job satisfaction. The data collected is as follows:\n",
    "\n",
    "   Employee Tenure (in years): [2, 3, 5, 4, 6, 2, 4]\n",
    "   \n",
    "   Job Satisfaction (on a scale of 1 to 10): [7, 8, 6, 9, 5, 7, 6]\n",
    "   Perform a linear regression analysis to predict job satisfaction based on employee tenure.\n"
   ]
  },
  {
   "cell_type": "code",
   "execution_count": 21,
   "id": "f3f8ddfb",
   "metadata": {},
   "outputs": [
    {
     "name": "stdout",
     "output_type": "stream",
     "text": [
      "Employee Tenure [2] years, Predicted Job Satisfaction: 7.659574468085105\n",
      "Employee Tenure [3] years, Predicted Job Satisfaction: 7.191489361702127\n",
      "Employee Tenure [5] years, Predicted Job Satisfaction: 6.255319148936169\n",
      "Employee Tenure [4] years, Predicted Job Satisfaction: 6.7234042553191475\n",
      "Employee Tenure [6] years, Predicted Job Satisfaction: 5.787234042553191\n",
      "Employee Tenure [2] years, Predicted Job Satisfaction: 7.659574468085105\n",
      "Employee Tenure [4] years, Predicted Job Satisfaction: 6.7234042553191475\n"
     ]
    }
   ],
   "source": [
    "import numpy as np\n",
    "from sklearn.linear_model import LinearRegression\n",
    "\n",
    "X = np.array([[2],[3],[5],[4],[6],[2],[4]])\n",
    "y = np.array([7, 8, 6, 9, 5, 7, 6])\n",
    "\n",
    "# Create and fit the linear regression model\n",
    "model = LinearRegression()\n",
    "model.fit(X, y)\n",
    "\n",
    "# Predict job satisfaction\n",
    "predicted_satisfaction = model.predict(X)\n",
    "\n",
    "# Print the predicted job satisfaction values\n",
    "for x, i in zip(X,predicted_satisfaction):\n",
    "    print(f\"Employee Tenure {x} years, Predicted Job Satisfaction: {i}\")\n"
   ]
  },
  {
   "cell_type": "markdown",
   "id": "a28a60a5",
   "metadata": {},
   "source": [
    "--------------------"
   ]
  },
  {
   "cell_type": "markdown",
   "id": "fe1340a7",
   "metadata": {},
   "source": [
    "9. Scenario: A study is conducted to compare the effectiveness of two different medications. The recovery times of the patients in each group are as follows:\n",
    "\n",
    "   Medication A: [10, 12, 14, 11, 13]\n",
    "   \n",
    "   Medication B: [15, 17, 16, 14, 18]\n",
    "   Perform an analysis of variance (ANOVA) to determine if there is a significant difference in the mean recovery times between the two medications.\n"
   ]
  },
  {
   "cell_type": "code",
   "execution_count": 43,
   "id": "994aa28c",
   "metadata": {},
   "outputs": [
    {
     "name": "stdout",
     "output_type": "stream",
     "text": [
      "F-test: 16.0\n",
      "P-value: 0.003949772803445326\n",
      "reject null hypothesis\n",
      "There is a significant difference in the mean recovery times between the medications.\n"
     ]
    }
   ],
   "source": [
    "from scipy import stats\n",
    "\n",
    "medication_a_recovery_times = [10, 12, 14, 11, 13]\n",
    "medication_b_recovery_times = [15, 17, 16, 14, 18]\n",
    "\n",
    "# Perform the ANOVA\n",
    "f, p = stats.f_oneway(medication_a_recovery_times, medication_b_recovery_times)\n",
    "\n",
    "print(\"F-test:\", f)\n",
    "print(\"P-value:\", p)\n",
    "\n",
    "if p_value < 0.05:\n",
    "    print(\"reject null hypothesis\")\n",
    "    print(\"There is a significant difference in the mean recovery times between the medications.\")\n",
    "else:\n",
    "    print(\"accept null hypothesis\")\n",
    "    print(\"There is no significant difference in the mean recovery times between the medications.\")\n"
   ]
  },
  {
   "cell_type": "markdown",
   "id": "0307d556",
   "metadata": {},
   "source": [
    "------------"
   ]
  },
  {
   "cell_type": "markdown",
   "id": "851ce5c0",
   "metadata": {},
   "source": [
    "10. Scenario: A company wants to analyze customer feedback ratings on a scale of 1 to 10. The data collected is\n",
    "\n",
    " as follows:\n",
    " \n",
    "    [8, 9, 7, 6, 8, 10, 9, 8, 7, 8]\n",
    "    Calculate the 75th percentile of the feedback ratings.\n"
   ]
  },
  {
   "cell_type": "code",
   "execution_count": 44,
   "id": "e2222346",
   "metadata": {},
   "outputs": [
    {
     "name": "stdout",
     "output_type": "stream",
     "text": [
      "75th percentile of feedback ratings: 8.75\n"
     ]
    }
   ],
   "source": [
    "import numpy as np\n",
    "\n",
    "feedback_ratings = [8, 9, 7, 6, 8, 10, 9, 8, 7, 8]\n",
    "\n",
    "# Calculate the 75th percentile\n",
    "percentile_75 = np.percentile(feedback_ratings, 75)\n",
    "\n",
    "print(\"75th percentile of feedback ratings:\", percentile_75)\n"
   ]
  },
  {
   "cell_type": "markdown",
   "id": "06d8f6c6",
   "metadata": {},
   "source": [
    "11. Scenario: A quality control department wants to test the weight consistency of a product. The weights of a sample of products are as follows:\n",
    "\n",
    "    [10.2, 9.8, 10.0, 10.5, 10.3, 10.1]\n",
    "    Perform a hypothesis test to determine if the mean weight differs significantly from 10 grams.\n"
   ]
  },
  {
   "cell_type": "code",
   "execution_count": 54,
   "id": "03546a85",
   "metadata": {},
   "outputs": [
    {
     "name": "stdout",
     "output_type": "stream",
     "text": [
      "t-statistic: 1.5126584522688367\n",
      "p-value: 0.19077595151110102\n",
      "Fail to reject the null hypothesis\n"
     ]
    }
   ],
   "source": [
    "import numpy as np\n",
    "from scipy import stats\n",
    "\n",
    "# Sample weights\n",
    "weights = np.array([10.2, 9.8, 10.0, 10.5, 10.3, 10.1])\n",
    "\n",
    "# Population mean\n",
    "population_mean = 10.0\n",
    "\n",
    "# Perform one-sample t-test\n",
    "t_statistic, p_value = stats.ttest_1samp(weights, population_mean)\n",
    "\n",
    "# Set the significance level\n",
    "alpha = 0.05\n",
    "\n",
    "# Print the t-statistic and p-value\n",
    "print(\"t-statistic:\", t_statistic)\n",
    "print(\"p-value:\", p_value)\n",
    "\n",
    "#  Performing hypothesis \n",
    "if p_value < alpha:\n",
    "    print(\"Reject the null hypothesis\")\n",
    "else:\n",
    "    print(\"Fail to reject the null hypothesis\")\n"
   ]
  },
  {
   "cell_type": "markdown",
   "id": "d94cf7d5",
   "metadata": {},
   "source": [
    "12. Scenario: A company wants to analyze the click-through rates of two different website designs. The number of clicks for each design is as follows:\n",
    "\n",
    "    Design A: [100, 120, 110, 90, 95]\n",
    "    \n",
    "    Design B: [80, 85, 90, 95, 100]\n",
    "    Perform a chi-square test to determine if there is a significant difference in the click-through rates between the two designs.\n"
   ]
  },
  {
   "cell_type": "code",
   "execution_count": 53,
   "id": "0c5eb273",
   "metadata": {},
   "outputs": [
    {
     "name": "stdout",
     "output_type": "stream",
     "text": [
      "Chi-square test statistic: 737.484238283591\n",
      "Degrees of freedom: 8\n",
      "p-value: 6.065791615489689e-154\n",
      "Reject the null hypothesis.\n",
      "There is a significant difference in click-through rates between Design A and Design B.\n"
     ]
    }
   ],
   "source": [
    "import numpy as np\n",
    "from scipy.stats import chi2\n",
    "\n",
    "observed_A = np.array([100, 120, 110, 90, 95])\n",
    "observed_B = np.array([80, 85, 90, 95, 100])\n",
    "\n",
    "# Calculate the total clicks for each design\n",
    "total_A = np.sum(observed_A)\n",
    "total_B = np.sum(observed_B)\n",
    "\n",
    "# Calculate the expected frequencies\n",
    "expected_A = (total_A / (total_A + total_B)) * total_B\n",
    "expected_B = (total_B / (total_A + total_B)) * total_B\n",
    "\n",
    "# Calculate the chi-square test statistic\n",
    "chi_square = np.sum((observed_A - expected_A)**2 / expected_A) + np.sum((observed_B - expected_B)**2 / expected_B)\n",
    "\n",
    "# Degrees of freedom\n",
    "degrees_of_freedom = len(observed_A) + len(observed_B) - 2\n",
    "\n",
    "# Calculate the p-value using chi2.sf (survival function)\n",
    "p_value = chi2.sf(chi_square, degrees_of_freedom)\n",
    "\n",
    "\n",
    "print(\"Chi-square test statistic:\", chi_square)\n",
    "print(\"Degrees of freedom:\", degrees_of_freedom)\n",
    "print(\"p-value:\", p_value)\n",
    "\n",
    "# Print the hypothesis testing \n",
    "alpha = 0.05\n",
    "if p_value <= alpha:\n",
    "    print(\"Reject the null hypothesis.\")\n",
    "    print(\"There is a significant difference in click-through rates between Design A and Design B.\")\n",
    "else:\n",
    "    print(\"Fail to reject the null hypothesis.\")\n",
    "    print( \"There is no significant difference in click-through rates between Design A and Design B.\")\n"
   ]
  },
  {
   "cell_type": "markdown",
   "id": "c2999bc5",
   "metadata": {},
   "source": [
    "13. Scenario: A survey is conducted to measure customer satisfaction with a product on a scale of 1 to 10. The data collected is as follows:\n",
    "\n",
    "    [7, 9, 6, 8, 10, 7, 8, 9, 7, 8]\n",
    "    \n",
    "    Calculate the 95% confidence interval for the population mean satisfaction score.\n"
   ]
  },
  {
   "cell_type": "code",
   "execution_count": 47,
   "id": "cbfba47f",
   "metadata": {},
   "outputs": [
    {
     "name": "stdout",
     "output_type": "stream",
     "text": [
      "Confidence Interval (95%): (7.043561120599888, 8.756438879400113)\n"
     ]
    }
   ],
   "source": [
    "import numpy as np\n",
    "from scipy.stats import t\n",
    "\n",
    "satisfaction_scores = [7, 9, 6, 8, 10, 7, 8, 9, 7, 8]\n",
    "\n",
    "# Calculate the sample mean and sample standard deviation\n",
    "sample_mean = np.mean(satisfaction_scores)\n",
    "sample_std = np.std(satisfaction_scores, ddof=1)\n",
    "\n",
    "# sample size and degrees of freedom\n",
    "sample_size = len(satisfaction_scores)\n",
    "degrees_of_freedom = sample_size - 1\n",
    "\n",
    "# Set the confidence level and calculate the critical value\n",
    "confidence_level = 0.95\n",
    "alpha = 1 - confidence_level\n",
    "critical_value = t.ppf(1 - alpha / 2, degrees_of_freedom)\n",
    "\n",
    "# Calculate the margin of error\n",
    "margin_of_error = critical_value * (sample_std / np.sqrt(sample_size))\n",
    "\n",
    "# Calculate the confidence interval\n",
    "confidence_interval = (sample_mean - margin_of_error, sample_mean + margin_of_error)\n",
    "\n",
    "# Print the confidence interval\n",
    "print(\"Confidence Interval (95%):\", confidence_interval)\n"
   ]
  },
  {
   "cell_type": "markdown",
   "id": "ab6fc559",
   "metadata": {},
   "source": [
    "14. Scenario: A company wants to analyze the effect of temperature on product performance. The data collected is as follows:\n",
    "\n",
    "    Temperature (in degrees Celsius): [20, 22, 23, 19, 21]\n",
    "    \n",
    "    Performance (on a scale of 1 to 10): [8, 7, 9, 6, 8]\n",
    "    \n",
    "    Perform a simple linear regression to predict performance based on temperature\n"
   ]
  },
  {
   "cell_type": "code",
   "execution_count": 46,
   "id": "5681e5ab",
   "metadata": {},
   "outputs": [
    {
     "name": "stdout",
     "output_type": "stream",
     "text": [
      "Coefficient :  0.4999999999999999\n",
      "Intercept :  -2.8999999999999986\n"
     ]
    }
   ],
   "source": [
    "from sklearn.linear_model import LinearRegression\n",
    "import numpy as np\n",
    "\n",
    "temperature = np.array([[20], [22], [23], [19], [21]])\n",
    "performance = np.array([8, 7, 9, 6, 8])\n",
    "\n",
    "# Create a linear regression model\n",
    "model = LinearRegression()\n",
    "model.fit(temperature, performance)\n",
    "\n",
    "# Get the coefficient and intercept of the linear regression model\n",
    "coefficient = model.coef_[0]\n",
    "intercept = model.intercept_\n",
    "\n",
    "# Print the regression equation\n",
    "print(\"Coefficient : \",coefficient)\n",
    "print(\"Intercept : \",intercept)\n",
    "\n"
   ]
  },
  {
   "cell_type": "markdown",
   "id": "1ab6440a",
   "metadata": {},
   "source": [
    "\n",
    "15. Scenario: A study is conducted to compare the preferences of two groups of participants. The preferences are measured on a Likert scale from 1 to 5. The data collected is as follows:\n",
    "\n",
    "    Group A: [4, 3, 5, 2, 4]\n",
    "    \n",
    "    Group B: [3, 2, 4, 3, 3]\n",
    "    Perform a Mann-Whitney U test to determine if there is a significant difference in the median preferences between the two groups.\n"
   ]
  },
  {
   "cell_type": "code",
   "execution_count": 43,
   "id": "44338947",
   "metadata": {},
   "outputs": [
    {
     "name": "stdout",
     "output_type": "stream",
     "text": [
      "Mann-Whitney U Test:\n",
      "Test statistic: 17.0\n",
      "p-value: 0.380836480306712\n",
      "accept null hypothesis\n",
      "There is no significant difference in the median preferences between Group A and Group B.\n"
     ]
    }
   ],
   "source": [
    "from scipy.stats import mannwhitneyu\n",
    "\n",
    "group_a = [4, 3, 5, 2, 4]\n",
    "group_b = [3, 2, 4, 3, 3]\n",
    "\n",
    "# Perform the Mann-Whitney U test\n",
    "statistic, p_value = mannwhitneyu(group_a, group_b)\n",
    "\n",
    "# Set the significance level\n",
    "alpha = 0.05\n",
    "\n",
    "print(\"Mann-Whitney U Test:\")\n",
    "print(\"Test statistic:\", statistic)\n",
    "print(\"p-value:\", p_value)\n",
    "\n",
    "# Perform the hypothesis test\n",
    "if p_value < alpha:\n",
    "    print(\"reject null hypothesis\")\n",
    "    print(\"There is a significant difference in the median preferences between Group A and Group B.\")\n",
    "else:\n",
    "    print(\"accept null hypothesis\")\n",
    "    print(\"There is no significant difference in the median preferences between Group A and Group B.\")\n"
   ]
  },
  {
   "cell_type": "markdown",
   "id": "56755983",
   "metadata": {},
   "source": [
    "16. Scenario: A company wants to analyze the distribution of customer ages. The data collected is as follows:\n",
    "\n",
    "    [25, 30, 35, 40, 45, 50, 55, 60, 65, 70]\n",
    "    Calculate the interquartile range (IQR) of the ages.\n"
   ]
  },
  {
   "cell_type": "code",
   "execution_count": 42,
   "id": "b080b5fc",
   "metadata": {},
   "outputs": [
    {
     "name": "stdout",
     "output_type": "stream",
     "text": [
      "Median : 47.5\n",
      "Interquartile Range (IQR): 22.5\n"
     ]
    }
   ],
   "source": [
    "import numpy as np\n",
    "\n",
    "ages = [25, 30, 35, 40, 45, 50, 55, 60, 65, 70]\n",
    "\n",
    "# 25 percentile\n",
    "q1 = np.percentile(ages, 25)\n",
    "\n",
    "# q2 represent for median\n",
    "q2 = np.median(ages)\n",
    "\n",
    "# 75 percentile\n",
    "q3 = np.percentile(ages, 75)\n",
    "\n",
    "# Calculate the interquartile range (IQR)\n",
    "iqr = q3 - q1\n",
    "\n",
    "# Print the interquartile range (IQR)\n",
    "print(\"Median :\", q2)\n",
    "print(\"Interquartile Range (IQR):\", iqr)\n"
   ]
  },
  {
   "cell_type": "markdown",
   "id": "204d15e6",
   "metadata": {},
   "source": [
    "17. Scenario: A study is conducted to compare the performance of three different machine learning algorithms. The accuracy scores for each algorithm are as follows:\n",
    "\n",
    "    Algorithm A: [0.85, 0.80, 0.82, 0.87, 0.83]\n",
    "    \n",
    "    Algorithm B: [0.78, 0.82, 0.84, 0.80, 0.79]\n",
    "    \n",
    "    Algorithm C: [0.90, 0.88, 0.89, 0.86, 0.87]\n",
    "    Perform a Kruskal-Wallis test to determine if there is a significant difference in the median accuracy scores between the algorithms.\n"
   ]
  },
  {
   "cell_type": "code",
   "execution_count": 40,
   "id": "233b4e5f",
   "metadata": {},
   "outputs": [
    {
     "name": "stdout",
     "output_type": "stream",
     "text": [
      "Kruskal-Wallis statistic :  9.696947935368053\n",
      "p-value :  0.007840333026249539\n"
     ]
    }
   ],
   "source": [
    "from scipy.stats import kruskal\n",
    "\n",
    "algorithm_a = [0.85, 0.80, 0.82, 0.87, 0.83]\n",
    "algorithm_b = [0.78, 0.82, 0.84, 0.80, 0.79]\n",
    "algorithm_c = [0.90, 0.88, 0.89, 0.86, 0.87]\n",
    "\n",
    "# Perform the Kruskal-Wallis test\n",
    "statistic,p_value = kruskal(algorithm_a, algorithm_b, algorithm_c)\n",
    "\n",
    "print(\"Kruskal-Wallis statistic : \", statistic)\n",
    "print(\"p-value : \", p_value)\n"
   ]
  },
  {
   "cell_type": "markdown",
   "id": "b5e76b1f",
   "metadata": {},
   "source": [
    "18. Scenario: A company wants to analyze the effect of price on sales. The data collected is as follows:\n",
    "\n",
    "    Price (in dollars): [10, 15, 12, 8, 14]\n",
    "    Sales: [100, 80, 90, 110, 95]\n",
    "    \n",
    "    Perform a simple linear regression to predict\n",
    "\n",
    " sales based on price.\n"
   ]
  },
  {
   "cell_type": "code",
   "execution_count": 62,
   "id": "794ebf82",
   "metadata": {},
   "outputs": [
    {
     "name": "stdout",
     "output_type": "stream",
     "text": [
      "Predicted sales for price $13: 90.79268292682926\n"
     ]
    }
   ],
   "source": [
    "from sklearn.linear_model import LinearRegression\n",
    "import numpy as np\n",
    "\n",
    "price = np.array([10, 15, 12, 8, 14]).reshape(-1, 1)\n",
    "sales = np.array([100, 80, 90, 110, 95])\n",
    "\n",
    "# Create a linear regression model\n",
    "model = LinearRegression()\n",
    "model.fit(price, sales)\n",
    "\n",
    "# Predict sales for a new price\n",
    "new_price = np.array([[13]])\n",
    "predicted_sales = model.predict(new_price)\n",
    "\n",
    "# Print the predicted sales\n",
    "print(f\"Predicted sales for price $13: {predicted_sales[0]}\")\n",
    "\n"
   ]
  },
  {
   "cell_type": "markdown",
   "id": "da3dbae3",
   "metadata": {},
   "source": [
    "19. Scenario: A survey is conducted to measure the satisfaction levels of customers with a new product. The data collected is as follows:\n",
    "\n",
    "    [7, 8, 9, 6, 8, 7, 9, 7, 8, 7]\n",
    "    Calculate the standard error of the mean satisfaction score.\n"
   ]
  },
  {
   "cell_type": "code",
   "execution_count": 56,
   "id": "73c81373",
   "metadata": {},
   "outputs": [
    {
     "name": "stdout",
     "output_type": "stream",
     "text": [
      "Standard Error of the Mean: 0.30550504633038933\n"
     ]
    }
   ],
   "source": [
    "import numpy as np\n",
    "\n",
    "satisfaction_scores = [7, 8, 9, 6, 8, 7, 9, 7, 8, 7]\n",
    "\n",
    "# Calculate the mean\n",
    "mean_score = np.mean(satisfaction_scores)\n",
    "\n",
    "# Calculate the standard deviation \n",
    "std_dev = np.std(satisfaction_scores, ddof=1)\n",
    "\n",
    "# Calculate the sample size\n",
    "sample_size = len(satisfaction_scores)\n",
    "\n",
    "# Calculate the standard error of the mean\n",
    "standard_error = std_dev / np.sqrt(sample_size)\n",
    "\n",
    "# Print the standard error of the mean\n",
    "print(\"Standard Error of the Mean:\", standard_error)"
   ]
  },
  {
   "cell_type": "code",
   "execution_count": 57,
   "id": "030a6138",
   "metadata": {},
   "outputs": [
    {
     "name": "stdout",
     "output_type": "stream",
     "text": [
      "Standard Error of the Mean: 0.30550504633038933\n"
     ]
    }
   ],
   "source": [
    "# solution 2:\n",
    "import numpy as np\n",
    "from scipy import stats\n",
    "\n",
    "satisfaction_scores = [7, 8, 9, 6, 8, 7, 9, 7, 8, 7]\n",
    "\n",
    "# Calculate the standard error of the mean\n",
    "standard_error = stats.sem(satisfaction_scores)\n",
    "\n",
    "print(\"Standard Error of the Mean:\", standard_error)"
   ]
  },
  {
   "cell_type": "markdown",
   "id": "b656320a",
   "metadata": {},
   "source": [
    "\n",
    "20. Scenario: A company wants to analyze the relationship between advertising expenditure and sales. The data collected is as follows:\n",
    "\n",
    "    Advertising Expenditure (in thousands): [10, 15, 12, 8, 14]\n",
    "    \n",
    "    Sales (in thousands): [25, 30, 28, 20, 26]\n",
    "    Perform a multiple regression analysis to predict sales based on advertising expenditure.\n"
   ]
  },
  {
   "cell_type": "code",
   "execution_count": 4,
   "id": "d16b470b",
   "metadata": {},
   "outputs": [
    {
     "name": "stdout",
     "output_type": "stream",
     "text": [
      "Intercept: 12.20121951219512\n",
      "Coefficient: 1.152439024390244\n",
      "Predicted Sales: [23.72560976 29.48780488 26.0304878  21.42073171 28.33536585]\n"
     ]
    }
   ],
   "source": [
    "import numpy as np\n",
    "import pandas as pd\n",
    "from sklearn.linear_model import LinearRegression\n",
    "\n",
    "advertising_expenditure = np.array([10, 15, 12, 8, 14]).reshape(-1, 1) \n",
    "sales = np.array([25, 30, 28, 20, 26])\n",
    "\n",
    "# Fit the multiple regression model\n",
    "model = LinearRegression()\n",
    "model.fit(advertising_expenditure, sales)\n",
    "\n",
    "#Obtain the coefficients and intercept of the regression model\n",
    "intercept = model.intercept_\n",
    "coefficients = model.coef_\n",
    "\n",
    "#Predict the sales based on the advertising expenditure\n",
    "predicted_sales = model.predict(advertising_expenditure)\n",
    "\n",
    "\n",
    "print('Intercept:', intercept)\n",
    "print('Coefficient:', coefficients[0])\n",
    "print('Predicted Sales:', predicted_sales)\n"
   ]
  },
  {
   "cell_type": "code",
   "execution_count": null,
   "id": "35c1681a",
   "metadata": {},
   "outputs": [],
   "source": []
  }
 ],
 "metadata": {
  "kernelspec": {
   "display_name": "Python 3 (ipykernel)",
   "language": "python",
   "name": "python3"
  },
  "language_info": {
   "codemirror_mode": {
    "name": "ipython",
    "version": 3
   },
   "file_extension": ".py",
   "mimetype": "text/x-python",
   "name": "python",
   "nbconvert_exporter": "python",
   "pygments_lexer": "ipython3",
   "version": "3.9.12"
  }
 },
 "nbformat": 4,
 "nbformat_minor": 5
}
