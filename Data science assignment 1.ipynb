{
 "cells": [
  {
   "cell_type": "markdown",
   "id": "690a6585",
   "metadata": {},
   "source": [
    " 1. Write a Python program to reverse a string without using any built-in string reversal functions."
   ]
  },
  {
   "cell_type": "code",
   "execution_count": 36,
   "id": "48ac6598",
   "metadata": {},
   "outputs": [
    {
     "data": {
      "text/plain": [
       "'ttahbtiduM'"
      ]
     },
     "execution_count": 36,
     "metadata": {},
     "output_type": "execute_result"
    }
   ],
   "source": [
    "def reverse_string(string):\n",
    "    # Reversing index\n",
    "    return string[::-1]\n",
    "\n",
    "# function test\n",
    "reverse_string(\"Muditbhatt\")\n"
   ]
  },
  {
   "cell_type": "markdown",
   "id": "5032e904",
   "metadata": {},
   "source": [
    "2. Implement a function to check if a given string is a palindrome."
   ]
  },
  {
   "cell_type": "code",
   "execution_count": 1,
   "id": "7b3b9b4d",
   "metadata": {},
   "outputs": [
    {
     "name": "stdout",
     "output_type": "stream",
     "text": [
      "malylam is plindrome\n",
      "phone  is not a palindrome\n"
     ]
    }
   ],
   "source": [
    "def palindrome(string):\n",
    "    # Compare string with riverse index of string\n",
    "    if string==string[::-1]: \n",
    "        print(f\"{string} is plindrome\")\n",
    "    else:\n",
    "        print(f\"{string}  is not a palindrome\")\n",
    "# function test\n",
    "palindrome( \"malylam\")\n",
    "palindrome( \"phone\")"
   ]
  },
  {
   "cell_type": "code",
   "execution_count": 2,
   "id": "53fc464f",
   "metadata": {},
   "outputs": [
    {
     "name": "stdout",
     "output_type": "stream",
     "text": [
      "True\n",
      "False\n"
     ]
    }
   ],
   "source": [
    "def is_palindrome(string):\n",
    "    # Compare string with riverse index of string\n",
    "    return string==string[::-1] \n",
    "\n",
    "# function test\n",
    "print(is_palindrome( \"malylam\"))\n",
    "print(is_palindrome( \"phone\"))"
   ]
  },
  {
   "cell_type": "markdown",
   "id": "2aeb90af",
   "metadata": {},
   "source": [
    "3. Write a program to find the largest element in a given list."
   ]
  },
  {
   "cell_type": "code",
   "execution_count": 68,
   "id": "85a2dd69",
   "metadata": {},
   "outputs": [
    {
     "data": {
      "text/plain": [
       "456"
      ]
     },
     "execution_count": 68,
     "metadata": {},
     "output_type": "execute_result"
    }
   ],
   "source": [
    "# solution 1:   \n",
    "l=[1,2,4,456, 22, 19]\n",
    "# Directly using max function\n",
    "max(l)"
   ]
  },
  {
   "cell_type": "code",
   "execution_count": 3,
   "id": "963bddcd",
   "metadata": {},
   "outputs": [
    {
     "name": "stdout",
     "output_type": "stream",
     "text": [
      "45  is the largest element in given list\n"
     ]
    }
   ],
   "source": [
    "# solution 2:\n",
    "def largest_element(l):\n",
    "    if type(l)== list:\n",
    "        # Assume the first element is the largest\n",
    "        largest = l[0]  \n",
    "\n",
    "        for i in l:\n",
    "            if i > largest:\n",
    "                largest = i\n",
    "\n",
    "    return largest\n",
    "# function test\n",
    "print(largest_element([1,2,4,45, 22, 19]), \" is the largest element in given list\")\n"
   ]
  },
  {
   "cell_type": "markdown",
   "id": "01bccf43",
   "metadata": {},
   "source": [
    "4. Implement a function to count the occurrence of each element in a list."
   ]
  },
  {
   "cell_type": "code",
   "execution_count": 4,
   "id": "f4f1fca3",
   "metadata": {},
   "outputs": [
    {
     "name": "stdout",
     "output_type": "stream",
     "text": [
      "1 : 2\n",
      "2 : 2\n",
      "3 : 3\n",
      "2 : 2\n",
      "4 : 1\n",
      "3 : 3\n",
      "3 : 3\n",
      "1 : 2\n"
     ]
    }
   ],
   "source": [
    "# solution 1:\n",
    "def element_occurrence(lst):\n",
    "    if type(lst)==list:\n",
    "        for i in lst:\n",
    "            # Count every element through loop\n",
    "            print(f\"{i} : {lst.count(i)}\") \n",
    "# function test           \n",
    "element_occurrence([1,2,3,2,4,3,3,1])            "
   ]
  },
  {
   "cell_type": "code",
   "execution_count": 28,
   "id": "ddac9dc7",
   "metadata": {},
   "outputs": [
    {
     "name": "stdout",
     "output_type": "stream",
     "text": [
      "1 : 2\n",
      "2 : 2\n",
      "3 : 3\n",
      "4 : 1\n"
     ]
    }
   ],
   "source": [
    "# solution 2:\n",
    "def element_occurrence(lst):\n",
    "    if type(lst) == list:\n",
    "        # Using empty dictionary\n",
    "        occurrences = {}\n",
    "        for i in lst:\n",
    "            # Inserting list element into dictionary\n",
    "            occurrences[i] = occurrences.get(i, 0) + 1\n",
    "\n",
    "        for i in occurrences:\n",
    "            print(f'{i} : {occurrences.get(i)}')\n",
    "            \n",
    "# function test\n",
    "element_occurrence([1,2,3,2,4,3,3,1]) "
   ]
  },
  {
   "cell_type": "code",
   "execution_count": 107,
   "id": "8e134ed5",
   "metadata": {},
   "outputs": [
    {
     "name": "stdout",
     "output_type": "stream",
     "text": [
      "1 : 2\n",
      "2 : 2\n",
      "3 : 3\n",
      "4 : 1\n"
     ]
    }
   ],
   "source": [
    "# solution 3:\n",
    "def element_occurrence(lst):\n",
    "    if type(lst) == list:\n",
    "        # Convert list into set for iteration\n",
    "        for i in set(lst):\n",
    "            print(f\"{i} : {lst.count(i)}\")\n",
    "\n",
    "# function test\n",
    "element_occurrence([1,2,3,2,4,3,3,1])"
   ]
  },
  {
   "cell_type": "markdown",
   "id": "b673a2ee",
   "metadata": {},
   "source": [
    "5. Write a Python program to find the second largest number in a list."
   ]
  },
  {
   "cell_type": "code",
   "execution_count": 29,
   "id": "925647e6",
   "metadata": {},
   "outputs": [
    {
     "name": "stdout",
     "output_type": "stream",
     "text": [
      "second largest number of list is  7\n"
     ]
    }
   ],
   "source": [
    "def second_lagrest_number(l):\n",
    "    if type(l)==list:\n",
    "        # Remove duplication by using set\n",
    "        l2 = list(set(l)) \n",
    "        #sorting list\n",
    "        l2.sort() \n",
    "    return l2[-2]\n",
    "\n",
    "# function test    \n",
    "print(\"second largest number of list is \", second_lagrest_number([2,2,2,3,5,1,6,7,8,7,4]))  "
   ]
  },
  {
   "cell_type": "markdown",
   "id": "d33dc3ba",
   "metadata": {},
   "source": [
    "6. Implement a function to remove duplicate elements from a list."
   ]
  },
  {
   "cell_type": "code",
   "execution_count": 122,
   "id": "887ea3e4",
   "metadata": {},
   "outputs": [
    {
     "data": {
      "text/plain": [
       "[1, 2, 3, 4, 5, 6, 7, 8]"
      ]
     },
     "execution_count": 122,
     "metadata": {},
     "output_type": "execute_result"
    }
   ],
   "source": [
    "def remove_duplication(lst):\n",
    "    if type(l)==list:\n",
    "        # Convert list into set\n",
    "        list2=list(set(lst))     \n",
    "    return list2\n",
    "\n",
    "# function test \n",
    "remove_duplication([2,2,2,3,5,1,6,7,8,7,4])"
   ]
  },
  {
   "cell_type": "markdown",
   "id": "d53fc2bc",
   "metadata": {},
   "source": [
    "7. Write a program to calculate the factorial of a given number."
   ]
  },
  {
   "cell_type": "code",
   "execution_count": 141,
   "id": "10c60b94",
   "metadata": {},
   "outputs": [
    {
     "data": {
      "text/plain": [
       "120"
      ]
     },
     "execution_count": 141,
     "metadata": {},
     "output_type": "execute_result"
    }
   ],
   "source": [
    "def factorial(n):\n",
    "    num = 1\n",
    "    for i in range(1,n+1):\n",
    "        num = num * i\n",
    "    return num\n",
    "# test function     \n",
    "factorial(5)    "
   ]
  },
  {
   "cell_type": "markdown",
   "id": "2fa6902c",
   "metadata": {},
   "source": [
    "8. Implement a function to check if a given number is prime."
   ]
  },
  {
   "cell_type": "code",
   "execution_count": 32,
   "id": "f2373887",
   "metadata": {},
   "outputs": [
    {
     "name": "stdout",
     "output_type": "stream",
     "text": [
      "13 is a prime\n"
     ]
    }
   ],
   "source": [
    "def prime_number(num):\n",
    "    if num <= 1:\n",
    "        print(\"not a prime number\")\n",
    "        \n",
    "    else:\n",
    "        for i in range(2,num):\n",
    "            # Check given number is divisible by any iterater number \n",
    "            if num%i==0:\n",
    "                print(f\" {num} is not a prime\")\n",
    "                break\n",
    "        else: \n",
    "            print(num, \"is a prime\")\n",
    "prime_number(13)"
   ]
  },
  {
   "cell_type": "markdown",
   "id": "695fb086",
   "metadata": {},
   "source": [
    "9. Write a Python program to sort a list of integers in ascending order."
   ]
  },
  {
   "cell_type": "code",
   "execution_count": 182,
   "id": "556d55f4",
   "metadata": {},
   "outputs": [
    {
     "data": {
      "text/plain": [
       "[1, 2, 2, 3, 4, 6, 7, 9]"
      ]
     },
     "execution_count": 182,
     "metadata": {},
     "output_type": "execute_result"
    }
   ],
   "source": [
    "# sol 1:\n",
    "def ascending_order(lst):\n",
    "    if type(lst)==list:\n",
    "        lst.sort()\n",
    "        return lst\n",
    "    \n",
    "# test function                \n",
    "ascending_order([2,2,3,4,6,7,9,1])    "
   ]
  },
  {
   "cell_type": "code",
   "execution_count": 38,
   "id": "2f72429a",
   "metadata": {},
   "outputs": [
    {
     "data": {
      "text/plain": [
       "[1, 2, 3, 4, 6, 7, 9]"
      ]
     },
     "execution_count": 38,
     "metadata": {},
     "output_type": "execute_result"
    }
   ],
   "source": [
    "# sol 2:\n",
    "def ascending_order(lst):\n",
    "    if type(lst)==list:\n",
    "         # Converting list into set\n",
    "        lst2=list(set(lst))\n",
    "        # the result will give sorted list with no duplication\n",
    "        return lst2\n",
    "# test function \n",
    "ascending_order([2,2,3,4,6,7,9,1])  "
   ]
  },
  {
   "cell_type": "markdown",
   "id": "a69148c6",
   "metadata": {},
   "source": [
    "10. Implement a function to find the sum of all numbers in a list."
   ]
  },
  {
   "cell_type": "code",
   "execution_count": 39,
   "id": "69c3a76b",
   "metadata": {},
   "outputs": [
    {
     "name": "stdout",
     "output_type": "stream",
     "text": [
      "55\n"
     ]
    }
   ],
   "source": [
    "def sum_all_numbers(l):\n",
    "    if type(l)==list:\n",
    "        num=0\n",
    "        for i in l:\n",
    "            num = num+i\n",
    "        print(num)\n",
    "sum_all_numbers([1,2,3,4,5,6,7,8,9,10])"
   ]
  },
  {
   "cell_type": "markdown",
   "id": "05d71468",
   "metadata": {},
   "source": [
    "11. Write a program to find the common elements between two lists."
   ]
  },
  {
   "cell_type": "code",
   "execution_count": 201,
   "id": "a1a6e61d",
   "metadata": {},
   "outputs": [
    {
     "name": "stdout",
     "output_type": "stream",
     "text": [
      "2\n",
      "3\n",
      "6\n",
      "7\n"
     ]
    }
   ],
   "source": [
    "def common_elements(list1, list2):\n",
    "    for item in list1:\n",
    "        for item2 in list2:\n",
    "            # Checking both the elements of list\n",
    "            if item==item2:\n",
    "                print(item)\n",
    "\n",
    "# test function                \n",
    "common_elements([1,2,3,4,5,6,7],[2,55,6,23,7,8,9,3])"
   ]
  },
  {
   "cell_type": "code",
   "execution_count": 40,
   "id": "1dcd89df",
   "metadata": {},
   "outputs": [
    {
     "data": {
      "text/plain": [
       "[2, 3, 6, 7]"
      ]
     },
     "execution_count": 40,
     "metadata": {},
     "output_type": "execute_result"
    }
   ],
   "source": [
    "def common_elements(list1, list2):\n",
    "    # Creating list of common elements\n",
    "    common_elements = []\n",
    "    \n",
    "    for item in list1:\n",
    "        if item in list2 and item not in common_elements:\n",
    "            # Inserting common elements from both list in a single list\n",
    "            common_elements.append(item)\n",
    "    return common_elements\n",
    "\n",
    "# Test the function\n",
    "common_elements([1,2,3,4,5,6,7],[2,55,6,23,7,8,9,3])"
   ]
  },
  {
   "cell_type": "markdown",
   "id": "4f0523f0",
   "metadata": {},
   "source": [
    "12. Implement a function to check if a given string is an anagram of another string."
   ]
  },
  {
   "cell_type": "code",
   "execution_count": 66,
   "id": "4f5f3f99",
   "metadata": {},
   "outputs": [
    {
     "data": {
      "text/plain": [
       "'Strings are anagram'"
      ]
     },
     "execution_count": 66,
     "metadata": {},
     "output_type": "execute_result"
    }
   ],
   "source": [
    "def string_anagram(str1, str2):\n",
    "    # Remove whitespace and convert strings to lowercase\n",
    "    str1 = str1.replace(\" \", \"\").lower()\n",
    "    str2 = str2.replace(\" \", \"\").lower()\n",
    "\n",
    "    # Check if the sorted characters of both strings are equal\n",
    "    if sorted(str1) == sorted(str2):\n",
    "        return \"Strings are anagram\"\n",
    "    else:\n",
    "        return \"Strings are not anagram\"\n",
    "    \n",
    "\n",
    "string_anagram('heart', 'earth')"
   ]
  },
  {
   "cell_type": "markdown",
   "id": "d3145c33",
   "metadata": {},
   "source": [
    "13. Write a Python program to generate all permutations of a given string."
   ]
  },
  {
   "cell_type": "code",
   "execution_count": 16,
   "id": "24f86ee8",
   "metadata": {},
   "outputs": [
    {
     "name": "stdout",
     "output_type": "stream",
     "text": [
      "Enter the string : CAT\n",
      "all possible permutation for given string:  ['CAT', 'CTA', 'ATC', 'ACT', 'TCA', 'TAC']\n"
     ]
    }
   ],
   "source": [
    "def string_permutation(string):\n",
    "    if len(string) <=1:\n",
    "        return string\n",
    "    # Empty list for all possible permutations\n",
    "    permutation=[]\n",
    "    \n",
    "    for i in range(len(string)):\n",
    "        first_char= string[i]\n",
    "        second_char = string[i+1:] + string[:i]\n",
    "\n",
    "        for perm in string_permutation(second_char):\n",
    "            permutation.append(first_char + perm)\n",
    "            \n",
    "    return permutation\n",
    "\n",
    "# function test\n",
    "string = input(\"Enter the string : \")\n",
    "print('all possible permutation for given string: ',string_permutation(string))"
   ]
  },
  {
   "cell_type": "markdown",
   "id": "6b0326d2",
   "metadata": {},
   "source": [
    "14. Implement a function to calculate the Fibonacci sequence up to a given number of terms."
   ]
  },
  {
   "cell_type": "code",
   "execution_count": 11,
   "id": "a1d3513c",
   "metadata": {},
   "outputs": [
    {
     "name": "stdout",
     "output_type": "stream",
     "text": [
      "Enter the number for fibonacci series : 10\n",
      "Fibonacci Series of first 10 number is : [0, 1, 1, 2, 3, 5, 8, 13, 21, 34] \n"
     ]
    }
   ],
   "source": [
    "def fibonacci_series(num):\n",
    "    if num <= 0:\n",
    "        return []\n",
    "    if num == 1:\n",
    "        return [0]\n",
    "    elif num == 2:\n",
    "        return [0, 1]\n",
    "    else:\n",
    "        fib_sequence = fibonacci_series(num - 1)\n",
    "        fib_sequence.append(fib_sequence[-1] + fib_sequence[-2])\n",
    "        return fib_sequence\n",
    "    \n",
    "num = int(input(\"Enter the number for fibonacci series : \"))\n",
    "\n",
    "print(f\"Fibonacci Series of first {num} number is : {fibonacci_series(num)} \")\n",
    "\n",
    "\n"
   ]
  },
  {
   "cell_type": "markdown",
   "id": "0ac5f3d9",
   "metadata": {},
   "source": [
    "15. Write a program to find the median of a list of numbers."
   ]
  },
  {
   "cell_type": "code",
   "execution_count": 29,
   "id": "29f8cff0",
   "metadata": {},
   "outputs": [
    {
     "data": {
      "text/plain": [
       "3.5"
      ]
     },
     "execution_count": 29,
     "metadata": {},
     "output_type": "execute_result"
    }
   ],
   "source": [
    "import numpy as np\n",
    "\n",
    "def find_median(numbers):\n",
    "    return np.median(numbers)\n",
    "\n",
    "l=[2,3,4,2,6,8]\n",
    "find_median(l)"
   ]
  },
  {
   "cell_type": "code",
   "execution_count": 1,
   "id": "9d6ce9fb",
   "metadata": {},
   "outputs": [
    {
     "data": {
      "text/plain": [
       "4.5"
      ]
     },
     "execution_count": 1,
     "metadata": {},
     "output_type": "execute_result"
    }
   ],
   "source": [
    "def find_median(numbers):\n",
    "    sorted_numbers = sorted(numbers)\n",
    "    n = len(sorted_numbers)\n",
    "    middle_index = n // 2\n",
    "\n",
    "    if n % 2 == 1:\n",
    "        # List has odd number of elements\n",
    "        median = sorted_numbers[middle_index]\n",
    "    else:\n",
    "        # List has even number of elements\n",
    "        median = (sorted_numbers[middle_index - 1] + sorted_numbers[middle_index]) / 2.0\n",
    "\n",
    "    return median\n",
    "\n",
    "#test fuction\n",
    "find_median([2,3,4,5,6,7])"
   ]
  },
  {
   "cell_type": "markdown",
   "id": "63e07188",
   "metadata": {},
   "source": [
    "16. Implement a function to check if a given list is sorted in non-decreasing order."
   ]
  },
  {
   "cell_type": "code",
   "execution_count": 73,
   "id": "64e2ab11",
   "metadata": {},
   "outputs": [
    {
     "name": "stdout",
     "output_type": "stream",
     "text": [
      "[1, 2, 3, 4, 5] List is sorted in non-decreasing order\n",
      " [2, 1, 3, 4, 5] List is not sorted in non-decreasing order\n"
     ]
    }
   ],
   "source": [
    "def is_sorted(lst):\n",
    "    for i in range(len(lst) - 1):\n",
    "        if lst[i] > lst[i + 1]:\n",
    "            return f\" {lst} List is not sorted in non-decreasing order\"\n",
    "    return f\"{lst} List is sorted in non-decreasing order\"\n",
    "\n",
    "print(is_sorted([1,2,3,4,5]))\n",
    "print(is_sorted([2,1,3,4,5]))"
   ]
  },
  {
   "cell_type": "markdown",
   "id": "effaddba",
   "metadata": {},
   "source": [
    "17. Write a Python program to find the intersection of two lists."
   ]
  },
  {
   "cell_type": "code",
   "execution_count": 16,
   "id": "7e7a3fcc",
   "metadata": {},
   "outputs": [
    {
     "data": {
      "text/plain": [
       "[2, 4, 5]"
      ]
     },
     "execution_count": 16,
     "metadata": {},
     "output_type": "execute_result"
    }
   ],
   "source": [
    "# sol 1 :\n",
    "def find_intersection(lst1, lst2):\n",
    "    set1 = set(lst1)\n",
    "    set2 = set(lst2)\n",
    "    intersection = set1.intersection(set2)\n",
    "    return list(intersection)\n",
    "# test function \n",
    "# Intersection using set  therefor no duplication of elements\n",
    "find_intersection([2,3,6,5,4,2],[9,8,7,5,4,2])"
   ]
  },
  {
   "cell_type": "code",
   "execution_count": 17,
   "id": "d699655b",
   "metadata": {},
   "outputs": [
    {
     "data": {
      "text/plain": [
       "[2, 5, 4, 2]"
      ]
     },
     "execution_count": 17,
     "metadata": {},
     "output_type": "execute_result"
    }
   ],
   "source": [
    "# sol 2 :\n",
    "def find_intersection(l1,l2):\n",
    "    intersection = []\n",
    "    for i in l1:\n",
    "        for j in l2:\n",
    "            if i==j:\n",
    "                intersection.append(i)\n",
    "    return intersection\n",
    "# test function\n",
    "# Intersection using list \n",
    "find_intersection([2,3,6,5,4,2],[9,8,7,5,4,2])"
   ]
  },
  {
   "cell_type": "markdown",
   "id": "ba03f8ef",
   "metadata": {},
   "source": [
    "18. Implement a function to find the maximum subarray sum in a given list.\n"
   ]
  },
  {
   "cell_type": "code",
   "execution_count": 76,
   "id": "ba39a618",
   "metadata": {},
   "outputs": [
    {
     "name": "stdout",
     "output_type": "stream",
     "text": [
      "Maximum subarray sum  is 6\n"
     ]
    }
   ],
   "source": [
    "def max_subarray_sum(lst,n):\n",
    "     \n",
    "    max_sum  = lst[0]\n",
    "    current_sum  = lst[0]\n",
    "     \n",
    "    for i in range(1,n):\n",
    "        current_sum = max(lst[i], current_sum + lst[i])\n",
    "        max_sum = max(max_sum,current_sum)\n",
    "         \n",
    "    return max_sum\n",
    " \n",
    "# test function\n",
    "lst = [-2, 1, -3, 4, -1, 2, 1, -5, 4]\n",
    "print(\"Maximum subarray sum  is\" , max_subarray_sum(lst,len(lst)))"
   ]
  },
  {
   "cell_type": "markdown",
   "id": "1a71097d",
   "metadata": {},
   "source": [
    "19. Write a program to remove all vowels from a given string."
   ]
  },
  {
   "cell_type": "code",
   "execution_count": 35,
   "id": "62dd27cb",
   "metadata": {},
   "outputs": [
    {
     "name": "stdout",
     "output_type": "stream",
     "text": [
      "Enter the string  : Samsung\n",
      "String after removing vowels :  Smsng\n"
     ]
    }
   ],
   "source": [
    "def remove_vowels(string):\n",
    "    vowels = \"AaEeIiOoUu\"\n",
    "    new_string = \"\"\n",
    "    for i in string:\n",
    "        if i not in vowels:\n",
    "            new_string = new_string + i\n",
    "    return new_string\n",
    "\n",
    "# test function  \n",
    "string = input(\"Enter the string  : \")\n",
    "print(\"String after removing vowels : \", remove_vowels(string))\n",
    "   "
   ]
  },
  {
   "cell_type": "markdown",
   "id": "c3efc701",
   "metadata": {},
   "source": [
    "20. Implement a function to reverse the order of words in a given sentence."
   ]
  },
  {
   "cell_type": "code",
   "execution_count": 42,
   "id": "153cb215",
   "metadata": {},
   "outputs": [
    {
     "name": "stdout",
     "output_type": "stream",
     "text": [
      "Enter the sentence : I live in a country called India\n",
      "Reversed sentence :  India called country a in live I\n"
     ]
    }
   ],
   "source": [
    "def reverse_sentence(sentence):\n",
    "    words = sentence.split()\n",
    "    reversed_words = words[::-1]\n",
    "    return \" \".join(reversed_words)\n",
    "\n",
    "# function test\n",
    "sentence = input(\"Enter the sentence : \")\n",
    "print(\"Reversed sentence : \", reverse_sentence(sentence))"
   ]
  },
  {
   "cell_type": "markdown",
   "id": "a812140b",
   "metadata": {},
   "source": [
    "21. Write a Python program to check if two strings are anagrams of each other."
   ]
  },
  {
   "cell_type": "code",
   "execution_count": 77,
   "id": "d87557b6",
   "metadata": {},
   "outputs": [
    {
     "data": {
      "text/plain": [
       "'Strings are  anagrams of each other'"
      ]
     },
     "execution_count": 77,
     "metadata": {},
     "output_type": "execute_result"
    }
   ],
   "source": [
    "def string_anagram(str1, str2):\n",
    "    # Remove whitespace and convert strings to lowercase\n",
    "    str1 = str1.replace(\" \", \"\").lower()\n",
    "    str2 = str2.replace(\" \", \"\").lower()\n",
    "\n",
    "    # Check if the sorted characters of both strings are equal\n",
    "    if sorted(str1) == sorted(str2):\n",
    "        return \"Strings are  anagrams of each other\"\n",
    "    else:\n",
    "        return \"Strings are not  anagrams of each other\"\n",
    "    \n",
    "\n",
    "string_anagram('heart', 'earth')"
   ]
  },
  {
   "cell_type": "markdown",
   "id": "b3932761",
   "metadata": {},
   "source": [
    "22. Implement a function to find the first non-repeating character in a string."
   ]
  },
  {
   "cell_type": "code",
   "execution_count": 64,
   "id": "c43bab25",
   "metadata": {},
   "outputs": [
    {
     "name": "stdout",
     "output_type": "stream",
     "text": [
      "First Non-Repeating Character =  B\n"
     ]
    }
   ],
   "source": [
    "\n",
    "def first_non_repeating_character(string):\n",
    "    char_order = []\n",
    "    counts = {}\n",
    "\n",
    "    for char in string:\n",
    "        if i in counts:\n",
    "            counts[i] += 1\n",
    "        else:\n",
    "            counts[i] = 1\n",
    "            char_order.append(i)\n",
    "    for c in char_order:\n",
    "        if counts[c] == 1:\n",
    "            return c\n",
    "    return None\n",
    "\n",
    "print(\"First Non-Repeating Character = \", RepeatingFunc('ABDCACFR'))"
   ]
  },
  {
   "cell_type": "markdown",
   "id": "6923292d",
   "metadata": {},
   "source": [
    "23. Write a program to find the prime factors of a given number."
   ]
  },
  {
   "cell_type": "code",
   "execution_count": 124,
   "id": "53f13af4",
   "metadata": {},
   "outputs": [
    {
     "name": "stdout",
     "output_type": "stream",
     "text": [
      "Enter the number : 20\n",
      "2\n",
      "2\n"
     ]
    },
    {
     "data": {
      "text/plain": [
       "5.0"
      ]
     },
     "execution_count": 124,
     "metadata": {},
     "output_type": "execute_result"
    }
   ],
   "source": [
    "import math\n",
    "\n",
    "def prime_factors(num):\n",
    "    while num % 2 == 0:\n",
    "        print(2)\n",
    "        num = num / 2\n",
    "\n",
    "    for i in range(3, int(math.sqrt(num)) + 1, 2):\n",
    "        while num % i == 0:\n",
    "            print(i)\n",
    "            num = num / i\n",
    "\n",
    "    if num > 2:\n",
    "        return num\n",
    "\n",
    "         \n",
    "# test function \n",
    "num  = int(input('Enter the number : '))\n",
    "primeFactors(num )"
   ]
  },
  {
   "cell_type": "markdown",
   "id": "55f52c19",
   "metadata": {},
   "source": [
    "24. Implement a function to check if a given number is a power of two."
   ]
  },
  {
   "cell_type": "code",
   "execution_count": 4,
   "id": "cf9f358a",
   "metadata": {},
   "outputs": [
    {
     "name": "stdout",
     "output_type": "stream",
     "text": [
      "Enter the number : 16\n",
      "Yes 16 is power of 2\n"
     ]
    },
    {
     "data": {
      "text/plain": [
       "True"
      ]
     },
     "execution_count": 4,
     "metadata": {},
     "output_type": "execute_result"
    }
   ],
   "source": [
    "def is_power_of_two(num):\n",
    "    if num <= 0:\n",
    "        return False\n",
    "\n",
    "    while num > 1:\n",
    "        # Check if number is perfectly divisible of 2\n",
    "        if num % 2 != 0:\n",
    "            return False\n",
    "        num //= 2\n",
    "    return True\n",
    "\n",
    "\n",
    "num = int(input(\"Enter the number : \"))\n",
    "if is_power_of_two(num):\n",
    "    print(f'Yes {num} is power of 2')\n",
    "else:\n",
    "    print(f'No {num} is not power of 2')\n",
    "    \n",
    "\n",
    "is_power_of_two(num)"
   ]
  },
  {
   "cell_type": "markdown",
   "id": "ec13714b",
   "metadata": {},
   "source": [
    "25. Write a Python program to merge two sorted lists into a single sorted list."
   ]
  },
  {
   "cell_type": "code",
   "execution_count": 78,
   "id": "333b22a5",
   "metadata": {},
   "outputs": [
    {
     "data": {
      "text/plain": [
       "[1, 2, 4, 4, 5, 6, 7, 8, 10, 20, 50]"
      ]
     },
     "execution_count": 78,
     "metadata": {},
     "output_type": "execute_result"
    }
   ],
   "source": [
    "# sol 1: \n",
    "def merge_sorted_list(lst1, lst2):\n",
    "    sorte_list = sorted(lst1 + lst2)\n",
    "    return sorte_list\n",
    "    \n",
    "lst1=[2, 5, 4, 1, 8, 50]\n",
    "lst2=[6, 4, 20, 7, 10]\n",
    "\n",
    "merge_sorted_list(lst1,lst2)"
   ]
  },
  {
   "cell_type": "code",
   "execution_count": 79,
   "id": "8284544c",
   "metadata": {},
   "outputs": [
    {
     "data": {
      "text/plain": [
       "[1, 2, 4, 4, 5, 6, 7, 8, 10, 20, 50]"
      ]
     },
     "execution_count": 79,
     "metadata": {},
     "output_type": "execute_result"
    }
   ],
   "source": [
    "# sol 2: \n",
    "def merge_sorted_lists(lst1, lst2):\n",
    "    merged_lst = []\n",
    "    i, j = 0, 0\n",
    "\n",
    "    while i < len(lst1) and j < len(lst2):\n",
    "        if lst1[i] < lst2[j]:\n",
    "            merged_lst.append(lst1[i])\n",
    "            i += 1\n",
    "        else:\n",
    "            merged_lst.append(lst2[j])\n",
    "            j += 1\n",
    "    merged_lst.extend(lst1[i:])\n",
    "    merged_lst.extend(lst2[j:])\n",
    "\n",
    "    return merged_lst\n",
    "\n",
    "lst1 = [2, 5, 4, 1, 8, 50]\n",
    "lst2 = [6, 4, 20, 7, 10]\n",
    "\n",
    "# Sorting the lists before merging\n",
    "lst1_sorted = sorted(lst1)\n",
    "lst2_sorted = sorted(lst2)\n",
    " \n",
    "merge_sorted_lists(lst1_sorted,lst2_sorted)"
   ]
  },
  {
   "cell_type": "markdown",
   "id": "71589133",
   "metadata": {},
   "source": [
    "26. Implement a function to find the mode of a list of numbers."
   ]
  },
  {
   "cell_type": "code",
   "execution_count": 1,
   "id": "6a78cfdf",
   "metadata": {},
   "outputs": [
    {
     "data": {
      "text/plain": [
       "5"
      ]
     },
     "execution_count": 1,
     "metadata": {},
     "output_type": "execute_result"
    }
   ],
   "source": [
    "import statistics as stat\n",
    "\n",
    "def find_mode(lst):\n",
    "    if type(lst)==list:\n",
    "        # Using mode function from statistics\n",
    "        mode = stat.mode(lst)\n",
    "        \n",
    "    return mode\n",
    "# test function\n",
    "lst = [7,6,5,4,3,5,3,5,7,8,5]\n",
    "find_mode(lst)    "
   ]
  },
  {
   "cell_type": "code",
   "execution_count": 81,
   "id": "1836bf10",
   "metadata": {},
   "outputs": [
    {
     "data": {
      "text/plain": [
       "[5]"
      ]
     },
     "execution_count": 81,
     "metadata": {},
     "output_type": "execute_result"
    }
   ],
   "source": [
    "def find_mode(lst):\n",
    "    # Creating an empty dictionary \n",
    "    count_dict = {}\n",
    "    for num in lst:\n",
    "        # Adding list element to dictionary with their counts.\n",
    "        count_dict[num] = count_dict.get(num, 0) + 1\n",
    "\n",
    "    highest_frequency = max(count_dict.values())\n",
    "    mode = [num for num, count in count_dict.items() if count == highest_frequency]\n",
    "\n",
    "    return mode\n",
    "\n",
    "\n",
    "# test function\n",
    "lst = [7,6,5,4,3,5,3,5,7,8,5]\n",
    "find_mode(lst)    \n"
   ]
  },
  {
   "cell_type": "markdown",
   "id": "79e28674",
   "metadata": {},
   "source": [
    "27. Write a program to find the greatest common divisor (GCD) of two numbers."
   ]
  },
  {
   "cell_type": "code",
   "execution_count": 11,
   "id": "5b813d52",
   "metadata": {},
   "outputs": [
    {
     "name": "stdout",
     "output_type": "stream",
     "text": [
      "enter number num1: 30\n",
      "enter number num2: 18\n",
      "greatest common divisor of 30 and 18 is 6\n"
     ]
    }
   ],
   "source": [
    "def GCD(x, y):\n",
    "    smaller = min(x, y)\n",
    "\n",
    "    for i in range(smaller, 0, -1):\n",
    "        if x % i == 0 and y % i == 0:\n",
    "            return i\n",
    "        \n",
    "x = int(input(\"enter number num1: \"))\n",
    "y = int(input(\"enter number num2: \"))\n",
    "print(f\"greatest common divisor of {x} and {y} is {GCD(x,y)}\")        "
   ]
  },
  {
   "cell_type": "markdown",
   "id": "651208e6",
   "metadata": {},
   "source": [
    "28. Implement a function to calculate the square root of a given number."
   ]
  },
  {
   "cell_type": "code",
   "execution_count": 18,
   "id": "3503948d",
   "metadata": {},
   "outputs": [
    {
     "data": {
      "text/plain": [
       "9.0"
      ]
     },
     "execution_count": 18,
     "metadata": {},
     "output_type": "execute_result"
    }
   ],
   "source": [
    "import math\n",
    "def square_root(num):\n",
    "    sq = math.sqrt(num)\n",
    "    return sq\n",
    "\n",
    "square_root(81)"
   ]
  },
  {
   "cell_type": "markdown",
   "id": "3901e272",
   "metadata": {},
   "source": [
    "29. Write a Python program to check if a given string is a valid palindrome ignoring non-alphanumeric characters."
   ]
  },
  {
   "cell_type": "code",
   "execution_count": 23,
   "id": "fbda69ae",
   "metadata": {},
   "outputs": [
    {
     "name": "stdout",
     "output_type": "stream",
     "text": [
      "Enter a string: Step on no pets\n",
      "The string is a valid palindrome.\n"
     ]
    }
   ],
   "source": [
    "import re\n",
    "\n",
    "def is_valid_palindrome(string):\n",
    "    # Remove non-alphanumeric characters\n",
    "    alphanumeric_string = re.sub(r'[^a-zA-Z0-9]', '', string)\n",
    "    \n",
    "    # Convert string to lowercase\n",
    "    lowercase_string = alphanumeric_string.lower()\n",
    "    \n",
    "    # Check if the string is equal to its reverse\n",
    "    return lowercase_string == lowercase_string[::-1]\n",
    "\n",
    "# test function\n",
    "string = input(\"Enter a string: \")\n",
    "if is_valid_palindrome(string):\n",
    "    print(\"The string is a valid palindrome.\")\n",
    "else:\n",
    "    print(\"The string is not a valid palindrome.\")\n"
   ]
  },
  {
   "cell_type": "markdown",
   "id": "b2b5a234",
   "metadata": {},
   "source": [
    "30. Implement a function to find the minimum element in a rotated sorted list."
   ]
  },
  {
   "cell_type": "code",
   "execution_count": 2,
   "id": "4f9a9388",
   "metadata": {},
   "outputs": [
    {
     "data": {
      "text/plain": [
       "2"
      ]
     },
     "execution_count": 2,
     "metadata": {},
     "output_type": "execute_result"
    }
   ],
   "source": [
    "def find_minimum(lst):\n",
    "    left = 0\n",
    "    right = len(lst) - 1\n",
    "\n",
    "    while left < right:\n",
    "        mid = left + (right - left) // 2\n",
    "\n",
    "        if lst[mid] > lst[right]:\n",
    "            left = mid + 1\n",
    "        elif lst[mid] < lst[right]:\n",
    "            right = mid\n",
    "        else:\n",
    "            right -= 1\n",
    "\n",
    "    return lst[left]\n",
    "lst=[1,3,5,4,2]\n",
    "find_minimum(lst)"
   ]
  },
  {
   "cell_type": "code",
   "execution_count": 6,
   "id": "33fc4a8d",
   "metadata": {},
   "outputs": [
    {
     "data": {
      "text/plain": [
       "4"
      ]
     },
     "execution_count": 6,
     "metadata": {},
     "output_type": "execute_result"
    }
   ],
   "source": [
    "def find_minimum(lst):\n",
    "    left = 0\n",
    "    right = len(lst) - 1\n",
    "\n",
    "    while left < right:\n",
    "        mid = left + (right - left) // 2\n",
    "\n",
    "        if lst[mid] > lst[right]:\n",
    "            left = mid + 1\n",
    "        elif lst[mid] < lst[right]:\n",
    "            right = mid\n",
    "        else:\n",
    "            right -= 1\n",
    "\n",
    "    return lst[left]\n",
    "\n",
    "lst=[2,3,5,6,4]\n",
    "find_minimum(lst)"
   ]
  },
  {
   "cell_type": "markdown",
   "id": "b352337f",
   "metadata": {},
   "source": [
    "31. Write a program to find the sum of all even numbers in a list."
   ]
  },
  {
   "cell_type": "code",
   "execution_count": 24,
   "id": "31b5fc2b",
   "metadata": {},
   "outputs": [
    {
     "data": {
      "text/plain": [
       "30"
      ]
     },
     "execution_count": 24,
     "metadata": {},
     "output_type": "execute_result"
    }
   ],
   "source": [
    "def sum_of_even_num(lst):\n",
    "    count = 0\n",
    "    if type(lst)==list:\n",
    "        for i in lst:\n",
    "            if i%2 ==0:\n",
    "                count += i\n",
    "    return count\n",
    "\n",
    "lst = [2,4,3,5,6,7,8,10]\n",
    "sum_of_even_num(lst)"
   ]
  },
  {
   "cell_type": "markdown",
   "id": "91efece0",
   "metadata": {},
   "source": [
    "32. Implement a function to calculate the power of a number using recursion."
   ]
  },
  {
   "cell_type": "code",
   "execution_count": 12,
   "id": "79cac83e",
   "metadata": {},
   "outputs": [
    {
     "name": "stdout",
     "output_type": "stream",
     "text": [
      "9\n"
     ]
    }
   ],
   "source": [
    "def power(base, exponent):\n",
    "    # Base case: Any number raised to the power of 0 is 1\n",
    "    if exponent == 0:\n",
    "        return 1\n",
    "    \n",
    "    # Recursive case: Multiply the base by the power of (exponent - 1)\n",
    "    return base * power(base, exponent - 1)\n",
    "\n",
    "result = power(3, 2)\n",
    "print(result)  "
   ]
  },
  {
   "cell_type": "markdown",
   "id": "71a05acb",
   "metadata": {},
   "source": [
    "33. Write a Python program to remove duplicates from a list while preserving the order."
   ]
  },
  {
   "cell_type": "code",
   "execution_count": 10,
   "id": "71895163",
   "metadata": {},
   "outputs": [
    {
     "data": {
      "text/plain": [
       "[2, 4, 3, 5, 6, 7, 8, 10]"
      ]
     },
     "execution_count": 10,
     "metadata": {},
     "output_type": "execute_result"
    }
   ],
   "source": [
    "def remove_duplicates(lst):\n",
    "    new_list = []\n",
    "    for i in lst:\n",
    "        if i not in new_list:\n",
    "            new_list.append(i)\n",
    "    return new_list\n",
    "\n",
    "lst = [2,2,4,3,5,6,6,6,7,8,10]\n",
    "remove_duplicates(lst)"
   ]
  },
  {
   "cell_type": "markdown",
   "id": "9f5637e2",
   "metadata": {},
   "source": [
    "34. Implement a function to find the longest common prefix among a list of strings."
   ]
  },
  {
   "cell_type": "code",
   "execution_count": 14,
   "id": "d0f593d9",
   "metadata": {},
   "outputs": [
    {
     "data": {
      "text/plain": [
       "'lo'"
      ]
     },
     "execution_count": 14,
     "metadata": {},
     "output_type": "execute_result"
    }
   ],
   "source": [
    "def longest_common_prefix(lst):\n",
    "    prefix = \"\"\n",
    "    # Sort the strings\n",
    "    lst.sort()\n",
    "\n",
    "    # Common prefix between the first and last string\n",
    "    first = lst[0]\n",
    "    last = lst[-1]\n",
    "    \n",
    "\n",
    "    for i in range(min(len(first), len(last))):\n",
    "        if first[i] == last[i]:\n",
    "            prefix += first[i]\n",
    "        else:\n",
    "            break\n",
    "\n",
    "    return prefix\n",
    "\n",
    "lst = [\"log\", \"long\", \"lone\"]\n",
    "longest_common_prefix(lst)"
   ]
  },
  {
   "cell_type": "markdown",
   "id": "18ef4045",
   "metadata": {},
   "source": [
    "35. Write a program to check if a given number is a perfect square."
   ]
  },
  {
   "cell_type": "code",
   "execution_count": 19,
   "id": "0c0abc07",
   "metadata": {},
   "outputs": [
    {
     "name": "stdout",
     "output_type": "stream",
     "text": [
      "Enter the number : 36\n",
      "36 is a perfect square\n"
     ]
    }
   ],
   "source": [
    "def perfect_square(num):\n",
    "    if num < 0:\n",
    "        return False\n",
    "    sqrt = int(num ** 0.5)\n",
    "    return sqrt * sqrt == num\n",
    "\n",
    "num = int(input(\"Enter the number : \"))\n",
    "if perfect_square(num):\n",
    "    print(f\"{num} is a perfect square\")\n",
    "else:\n",
    "    print(f\"{num} is not a perfect square\")"
   ]
  },
  {
   "cell_type": "markdown",
   "id": "7b4b1df3",
   "metadata": {},
   "source": [
    "36. Implement a function to calculate the product of all elements in a list."
   ]
  },
  {
   "cell_type": "code",
   "execution_count": 20,
   "id": "923198c9",
   "metadata": {},
   "outputs": [
    {
     "data": {
      "text/plain": [
       "120"
      ]
     },
     "execution_count": 20,
     "metadata": {},
     "output_type": "execute_result"
    }
   ],
   "source": [
    "def product(lst):\n",
    "    count = 1\n",
    "    for i in lst:\n",
    "        count = count * i\n",
    "    return count\n",
    "\n",
    "lst = [1,2,3,4,5]\n",
    "product(lst)"
   ]
  },
  {
   "cell_type": "markdown",
   "id": "d7bf633f",
   "metadata": {},
   "source": [
    "37. Write a Python program to reverse the order of words in a sentence while preserving the word order."
   ]
  },
  {
   "cell_type": "code",
   "execution_count": 17,
   "id": "d5fc1913",
   "metadata": {},
   "outputs": [
    {
     "name": "stdout",
     "output_type": "stream",
     "text": [
      "Enter any sentence : samsung is a good phone\n",
      "Reverse sentence :  phone good a is samsung\n"
     ]
    }
   ],
   "source": [
    "def reverse_sentence(sentence):\n",
    "    #split the sentance in word list\n",
    "    words = sentence.split()\n",
    "    \n",
    "    # Reverse the list using index reversing and join the sentence\n",
    "    reversed_sentence = \" \".join(words[::-1])\n",
    "    \n",
    "    return reversed_sentence\n",
    "\n",
    "#test function\n",
    "sentence = input(\"Enter any sentence : \")\n",
    "print(\"Reverse sentence : \", reverse_sentence(sentence))\n"
   ]
  },
  {
   "cell_type": "markdown",
   "id": "e31e6e6a",
   "metadata": {},
   "source": [
    "38. Implement a function to find the missing number in a given list of consecutive numbers."
   ]
  },
  {
   "cell_type": "code",
   "execution_count": 23,
   "id": "85af48aa",
   "metadata": {},
   "outputs": [
    {
     "data": {
      "text/plain": [
       "4"
      ]
     },
     "execution_count": 23,
     "metadata": {},
     "output_type": "execute_result"
    }
   ],
   "source": [
    "def find_missing_number(lst):\n",
    "    n = len(lst) + 1\n",
    "    expected_sum = (n * (n + 1)) // 2\n",
    "\n",
    "    actual_sum = sum(lst)\n",
    "    missing_number = expected_sum - actual_sum\n",
    "\n",
    "    return missing_number\n",
    "\n",
    "lst=[1,2,3,5,6]\n",
    "find_missing_number(lst)"
   ]
  },
  {
   "cell_type": "markdown",
   "id": "d634dd33",
   "metadata": {},
   "source": [
    "39. Write a program to find the sum of digits of a given number."
   ]
  },
  {
   "cell_type": "code",
   "execution_count": 21,
   "id": "7252d65a",
   "metadata": {},
   "outputs": [
    {
     "name": "stdout",
     "output_type": "stream",
     "text": [
      "Enter a number: 12345\n"
     ]
    },
    {
     "data": {
      "text/plain": [
       "15"
      ]
     },
     "execution_count": 21,
     "metadata": {},
     "output_type": "execute_result"
    }
   ],
   "source": [
    "def sum_of_digits(number):\n",
    "    number_str = str(number)\n",
    "    num_sum = 0\n",
    "    \n",
    "    for i in number_str:\n",
    "        num_sum += int(i)\n",
    "        \n",
    "    return num_sum\n",
    "\n",
    "number = int(input(\"Enter a number: \"))\n",
    "sum_of_digits(number )"
   ]
  },
  {
   "cell_type": "markdown",
   "id": "6e37e3bb",
   "metadata": {},
   "source": [
    "40. Implement a function to check if a given string is a valid palindrome considering case sensitivity."
   ]
  },
  {
   "cell_type": "code",
   "execution_count": 22,
   "id": "719af1ea",
   "metadata": {},
   "outputs": [
    {
     "name": "stdout",
     "output_type": "stream",
     "text": [
      "Enter the string : redder\n"
     ]
    },
    {
     "data": {
      "text/plain": [
       "'redder : is a valid string'"
      ]
     },
     "execution_count": 22,
     "metadata": {},
     "output_type": "execute_result"
    }
   ],
   "source": [
    "def valid_palindrome(string):\n",
    "    # Remove non-alphanumeric characters and convert to lowercase\n",
    "    cleaned_string = ''.join(char for char in string if char.isalnum()).lower()\n",
    "\n",
    "    # Check if the cleaned string is equal to its reverse\n",
    "    if cleaned_string == cleaned_string[::-1]:\n",
    "        return f'{string} : is a valid string'\n",
    "    else:\n",
    "        return f'{string} : is not valid string'\n",
    "\n",
    "#test function\n",
    "string = input(\"Enter the string : \" )\n",
    "valid_palindrome(string)\n"
   ]
  },
  {
   "cell_type": "markdown",
   "id": "c13c1e04",
   "metadata": {},
   "source": [
    "41. Write a Python program to find the smallest missing positive integer in a list."
   ]
  },
  {
   "cell_type": "code",
   "execution_count": 9,
   "id": "cd600a87",
   "metadata": {},
   "outputs": [
    {
     "data": {
      "text/plain": [
       "'1 is  lowest missing positive integer'"
      ]
     },
     "execution_count": 9,
     "metadata": {},
     "output_type": "execute_result"
    }
   ],
   "source": [
    "def  smallest_missing_positive_integer(lst):\n",
    "    l1=[]\n",
    "    smallest_int=[]\n",
    "    for i in lst:\n",
    "        # Eleminate the all the negative value and add postive int to list\n",
    "        if i >=0:\n",
    "            l1.append(i)\n",
    "    # Finding missing element \n",
    "    missing_int = list(set(range(max(l1) + 1)) - set(l1))\n",
    "    # Smallest missing element\n",
    "    for i in missing_int:\n",
    "        if i != 0:\n",
    "            smallest_int.append(i)\n",
    "    return f\"{min(smallest_int)} is  lowest missing positive integer\"\n",
    "\n",
    "lst=[-1,-2,2,2,4]    \n",
    "smallest_missing_positive_integer(lst)"
   ]
  },
  {
   "cell_type": "markdown",
   "id": "e13e2e4b",
   "metadata": {},
   "source": [
    "42. Implement a function to find the longest palindrome substring in a given string."
   ]
  },
  {
   "cell_type": "code",
   "execution_count": 21,
   "id": "65204148",
   "metadata": {},
   "outputs": [
    {
     "name": "stdout",
     "output_type": "stream",
     "text": [
      "Enter the string : forgeeksskeegfor\n",
      "Longest palindrome substring  :  geeksskeeg\n"
     ]
    }
   ],
   "source": [
    "def longest_palindrome_substr(string):\n",
    "    n = len(string)\n",
    " \n",
    "    # Stores Longest palindrome Substring\n",
    "    longest = \"\"\n",
    "    j = 0\n",
    "    \n",
    "    # Store substring \n",
    "    subs = \"\"\n",
    " \n",
    "    # Store reverse of substring \n",
    "    subsrev = \"\"\n",
    "    for i in range(n):\n",
    "        j = n-1\n",
    "        while i < j:\n",
    " \n",
    "           \n",
    "            if(string[i] == string[j] and len(longest) < (j-i+1)):\n",
    "                subs = string[i:(j+1)]\n",
    "                subsrev = subs[::-1]\n",
    "                if(subs == subsrev):\n",
    "                    longest = subs\n",
    "            j -= 1\n",
    " \n",
    "    # If no longest substring then return first character\n",
    "    if(len(longest) == 0):\n",
    "        longest = string[0]\n",
    "    print(\"Longest palindrome substring  : \", longest)\n",
    "\n",
    "# test function\n",
    "string = input(\"Enter the string : \")\n",
    "longest_palindrome_substr(string)"
   ]
  },
  {
   "cell_type": "markdown",
   "id": "2b3fe585",
   "metadata": {},
   "source": [
    "43. Write a program to find the number of occurrences of a given element in a list."
   ]
  },
  {
   "cell_type": "code",
   "execution_count": 22,
   "id": "497a49f9",
   "metadata": {},
   "outputs": [
    {
     "name": "stdout",
     "output_type": "stream",
     "text": [
      "enter the number : 2\n",
      "Occurrences of 2 is : 3\n"
     ]
    }
   ],
   "source": [
    "def count_occurrences(lst, target):\n",
    "    count = 0\n",
    "    \n",
    "    for i in lst:\n",
    "        if i == target:\n",
    "            count += 1\n",
    "            \n",
    "    return count\n",
    "\n",
    "# test function\n",
    "target = int(input(\"enter the number : \"))\n",
    "print(f\"Occurrences of {target} is : {count_occurrences([2,3,4,5,5,2,5,7,2],target)}\")"
   ]
  },
  {
   "cell_type": "markdown",
   "id": "15060367",
   "metadata": {},
   "source": [
    "44. Implement a function to check if a given number is a perfect number."
   ]
  },
  {
   "cell_type": "code",
   "execution_count": 99,
   "id": "a1aa7e2a",
   "metadata": {},
   "outputs": [
    {
     "name": "stdout",
     "output_type": "stream",
     "text": [
      "Enter the number : 6\n",
      "6 is a perfect number\n"
     ]
    }
   ],
   "source": [
    "def perfect_number(num):\n",
    "    sum = 0\n",
    "    for i in range(1,num):\n",
    "        if num%i ==0:\n",
    "            sum += i\n",
    "            \n",
    "    if sum == num:\n",
    "        print(num, \"is a perfect number\")\n",
    "    else:\n",
    "        print(num, \"is not a perfect number\")\n",
    "    \n",
    "num = int(input(\"Enter the number : \"))\n",
    "perfect_number(num)"
   ]
  },
  {
   "cell_type": "markdown",
   "id": "7bb7d4ca",
   "metadata": {},
   "source": [
    "45. Write a Python program to remove all duplicates from a string."
   ]
  },
  {
   "cell_type": "code",
   "execution_count": 71,
   "id": "7f2080cf",
   "metadata": {},
   "outputs": [
    {
     "name": "stdout",
     "output_type": "stream",
     "text": [
      "Enter the string : Apple\n"
     ]
    },
    {
     "data": {
      "text/plain": [
       "'Ale'"
      ]
     },
     "execution_count": 71,
     "metadata": {},
     "output_type": "execute_result"
    }
   ],
   "source": [
    "# SOl 1:\n",
    "def remove_duplication(string):\n",
    "    # Create a fresh string\n",
    "    new_string = \"\"\n",
    "    \n",
    "    # Add non duplicate to new string\n",
    "    for i in string:\n",
    "        if string.count(i) == 1:\n",
    "            new_string += i\n",
    "            \n",
    "    return new_string\n",
    "    \n",
    "# test function\n",
    "string = input(\"Enter the string : \")\n",
    "remove_duplication(string)"
   ]
  },
  {
   "cell_type": "code",
   "execution_count": 78,
   "id": "4248555f",
   "metadata": {},
   "outputs": [
    {
     "name": "stdout",
     "output_type": "stream",
     "text": [
      "Enter the string : Apple\n"
     ]
    },
    {
     "data": {
      "text/plain": [
       "'Aple'"
      ]
     },
     "execution_count": 78,
     "metadata": {},
     "output_type": "execute_result"
    }
   ],
   "source": [
    "# SOl : 2\n",
    "def remove_duplication(string):\n",
    "    # Create a fresh string\n",
    "    new_string = \"\"\n",
    "\n",
    "     # Add non duplicate to new string\n",
    "    for i in string:\n",
    "        if i not in new_string:\n",
    "            new_string += i\n",
    "            \n",
    "    return new_string\n",
    "\n",
    "# test function\n",
    "string = input(\"Enter the string : \")\n",
    "remove_duplication(string)"
   ]
  },
  {
   "cell_type": "code",
   "execution_count": 79,
   "id": "1289e64e",
   "metadata": {},
   "outputs": [
    {
     "name": "stdout",
     "output_type": "stream",
     "text": [
      "Enter the string : Apple\n"
     ]
    },
    {
     "data": {
      "text/plain": [
       "'Aple'"
      ]
     },
     "execution_count": 79,
     "metadata": {},
     "output_type": "execute_result"
    }
   ],
   "source": [
    "# Sol 3:\n",
    "def remove_duplicates(input_string):\n",
    "    unique_chars = set()\n",
    "    result_string = \"\"\n",
    "\n",
    "    for char in input_string:\n",
    "        if char not in unique_chars:\n",
    "            unique_chars.add(char)\n",
    "            result_string += char\n",
    "\n",
    "    return result_string\n",
    "\n",
    "# test function\n",
    "string = input(\"Enter the string : \")\n",
    "remove_duplication(string)"
   ]
  },
  {
   "cell_type": "markdown",
   "id": "18710f98",
   "metadata": {},
   "source": [
    "46. Implement a function to find the first missing positive"
   ]
  },
  {
   "cell_type": "code",
   "execution_count": 84,
   "id": "f3b4ffaf",
   "metadata": {},
   "outputs": [
    {
     "data": {
      "text/plain": [
       "4"
      ]
     },
     "execution_count": 84,
     "metadata": {},
     "output_type": "execute_result"
    }
   ],
   "source": [
    "def first_missing_positive(nums):\n",
    "    n = len(nums)\n",
    "\n",
    "    for i in range(n):\n",
    "        while 1 <= nums[i] <= n and nums[nums[i] - 1] != nums[i]:\n",
    "            nums[nums[i] - 1], nums[i] = nums[i], nums[nums[i] - 1]\n",
    "\n",
    "    # Find the first missing positive integer\n",
    "    for i in range(n):\n",
    "        if nums[i] != i + 1:\n",
    "            return i + 1\n",
    "\n",
    "    # If all positive integers from 1 to n are present\n",
    "    return n + 1\n",
    "\n",
    "first_missing_positive([1,2,-2,3,])"
   ]
  },
  {
   "cell_type": "code",
   "execution_count": 24,
   "id": "b4c6bc2c",
   "metadata": {},
   "outputs": [
    {
     "data": {
      "text/plain": [
       "'4 is  first missing positive integer'"
      ]
     },
     "execution_count": 24,
     "metadata": {},
     "output_type": "execute_result"
    }
   ],
   "source": [
    "# sol 2:\n",
    "def  first_missing_positive(lst):\n",
    "    positive_int=[]\n",
    "    smallest_int=[]\n",
    "    for i in lst:\n",
    "        # Eleminate the all the negative value and add postive int to list\n",
    "        if i >=0:\n",
    "            positive_int.append(i)\n",
    "            \n",
    "    # Finding missing element \n",
    "    missing_int = list(set(range(max(positive_int) + 1)) - set(positive_int))\n",
    "    \n",
    "    # Smallest missing element\n",
    "    for i in missing_int:\n",
    "        if i != 0:\n",
    "            smallest_int.append(i)\n",
    "                                \n",
    "    return f\"{smallest_int[0]} is  first missing positive integer\"\n",
    "\n",
    "lst = [-3,-2,-5,1,2,3,5,8]   \n",
    "first_missing_positive(lst)"
   ]
  },
  {
   "cell_type": "code",
   "execution_count": null,
   "id": "e93aa760",
   "metadata": {},
   "outputs": [],
   "source": []
  }
 ],
 "metadata": {
  "kernelspec": {
   "display_name": "Python 3 (ipykernel)",
   "language": "python",
   "name": "python3"
  },
  "language_info": {
   "codemirror_mode": {
    "name": "ipython",
    "version": 3
   },
   "file_extension": ".py",
   "mimetype": "text/x-python",
   "name": "python",
   "nbconvert_exporter": "python",
   "pygments_lexer": "ipython3",
   "version": "3.9.12"
  }
 },
 "nbformat": 4,
 "nbformat_minor": 5
}
